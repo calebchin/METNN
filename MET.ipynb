{
 "cells": [
  {
   "cell_type": "code",
   "execution_count": 18,
   "metadata": {
    "id": "jXzpwlxkPjzA"
   },
   "outputs": [],
   "source": [
    "import numpy as np\n",
    "from scipy.stats import wasserstein_distance\n",
    "from scipy.optimize import linprog\n",
    "import matplotlib.pyplot as plt\n",
    "import biom\n",
    "from ete3 import Tree\n",
    "\n"
   ]
  },
  {
   "cell_type": "code",
   "execution_count": 6,
   "metadata": {
    "colab": {
     "base_uri": "https://localhost:8080/"
    },
    "collapsed": true,
    "id": "XhdfwyeIzKeg",
    "outputId": "dfc092ef-25e7-4888-f9f8-9e2a06b6e833"
   },
   "outputs": [
    {
     "name": "stdout",
     "output_type": "stream",
     "text": [
      "Collecting biom-format\n",
      "  Downloading biom-format-2.1.16.tar.gz (11.7 MB)\n",
      "\u001b[2K     \u001b[90m━━━━━━━━━━━━━━━━━━━━━━━━━━━━━━━━━━━━━━━━\u001b[0m \u001b[32m11.7/11.7 MB\u001b[0m \u001b[31m46.6 MB/s\u001b[0m eta \u001b[36m0:00:00\u001b[0m\n",
      "\u001b[?25h  Installing build dependencies ... \u001b[?25l\u001b[?25hdone\n",
      "  Getting requirements to build wheel ... \u001b[?25l\u001b[?25hdone\n",
      "  Preparing metadata (pyproject.toml) ... \u001b[?25l\u001b[?25hdone\n",
      "Requirement already satisfied: click in /usr/local/lib/python3.10/dist-packages (from biom-format) (8.1.7)\n",
      "Requirement already satisfied: numpy>=1.9.2 in /usr/local/lib/python3.10/dist-packages (from biom-format) (1.26.4)\n",
      "Requirement already satisfied: scipy>=1.3.1 in /usr/local/lib/python3.10/dist-packages (from biom-format) (1.13.1)\n",
      "Requirement already satisfied: pandas>=0.20.0 in /usr/local/lib/python3.10/dist-packages (from biom-format) (2.2.2)\n",
      "Requirement already satisfied: h5py in /usr/local/lib/python3.10/dist-packages (from biom-format) (3.12.1)\n",
      "Requirement already satisfied: python-dateutil>=2.8.2 in /usr/local/lib/python3.10/dist-packages (from pandas>=0.20.0->biom-format) (2.8.2)\n",
      "Requirement already satisfied: pytz>=2020.1 in /usr/local/lib/python3.10/dist-packages (from pandas>=0.20.0->biom-format) (2024.2)\n",
      "Requirement already satisfied: tzdata>=2022.7 in /usr/local/lib/python3.10/dist-packages (from pandas>=0.20.0->biom-format) (2024.2)\n",
      "Requirement already satisfied: six>=1.5 in /usr/local/lib/python3.10/dist-packages (from python-dateutil>=2.8.2->pandas>=0.20.0->biom-format) (1.16.0)\n",
      "Building wheels for collected packages: biom-format\n",
      "  Building wheel for biom-format (pyproject.toml) ... \u001b[?25l\u001b[?25hdone\n",
      "  Created wheel for biom-format: filename=biom_format-2.1.16-cp310-cp310-linux_x86_64.whl size=12158973 sha256=a459308b52123129fe60ffce531eb697983e810f38d4d22f7a07c82f154ce630\n",
      "  Stored in directory: /root/.cache/pip/wheels/8e/a9/f9/197fd5a0e5bbab5f2e03c89194f6c194bed7af5d7a8c8759f3\n",
      "Successfully built biom-format\n",
      "Installing collected packages: biom-format\n",
      "Successfully installed biom-format-2.1.16\n"
     ]
    }
   ],
   "source": [
    "#!pip install biom-format\n",
    "\n"
   ]
  },
  {
   "cell_type": "code",
   "execution_count": 7,
   "metadata": {
    "colab": {
     "base_uri": "https://localhost:8080/"
    },
    "collapsed": true,
    "id": "S1iKTP6LzpCr",
    "outputId": "81abbdc5-1aba-4229-ae51-828c43fab751"
   },
   "outputs": [
    {
     "name": "stdout",
     "output_type": "stream",
     "text": [
      "Collecting ete3\n",
      "  Downloading ete3-3.1.3.tar.gz (4.8 MB)\n",
      "\u001b[2K     \u001b[90m━━━━━━━━━━━━━━━━━━━━━━━━━━━━━━━━━━━━━━━━\u001b[0m \u001b[32m4.8/4.8 MB\u001b[0m \u001b[31m21.5 MB/s\u001b[0m eta \u001b[36m0:00:00\u001b[0m\n",
      "\u001b[?25h  Preparing metadata (setup.py) ... \u001b[?25l\u001b[?25hdone\n",
      "Building wheels for collected packages: ete3\n",
      "  Building wheel for ete3 (setup.py) ... \u001b[?25l\u001b[?25hdone\n",
      "  Created wheel for ete3: filename=ete3-3.1.3-py3-none-any.whl size=2273787 sha256=38b2497af02238cd91e2d0fe42d725ac57079cd54909c4042cb6ad73ef39921d\n",
      "  Stored in directory: /root/.cache/pip/wheels/a0/72/00/1982bd848e52b03079dbf800900120bc1c20e92e9a1216e525\n",
      "Successfully built ete3\n",
      "Installing collected packages: ete3\n",
      "Successfully installed ete3-3.1.3\n"
     ]
    }
   ],
   "source": [
    "#!pip install ete3"
   ]
  },
  {
   "cell_type": "code",
   "execution_count": 19,
   "metadata": {
    "colab": {
     "base_uri": "https://localhost:8080/"
    },
    "id": "tDsoXtD20g_K",
    "outputId": "6331968f-36a5-46d1-de82-94bb964ff20f"
   },
   "outputs": [
    {
     "name": "stdout",
     "output_type": "stream",
     "text": [
      "OTUs (rows) in the feature table:\n",
      "['668fdb718997fc1589c7817655d4bb5f' 'a3f36ef32153f2fc2aaeac2feb23777f'\n",
      " '9496d87b94d90dff068f0716603930bd' ... '46b10e705d5fbdc5c8d8f3a24249591e'\n",
      " '4c5ce916f019b3ba5d0fa994d24aee1a' '530d3f556e633849ac4580c76fdda317']\n",
      "\n",
      "Sample IDs (columns):\n",
      "['206534' '206536' '206538' '206548' '206561' '206562' '206563' '206569'\n",
      " '206570' '206571' '206572' '206603' '206604' '206605' '206608' '206609'\n",
      " '206614' '206615' '206616' '206617' '206618' '206619' '206620' '206621'\n",
      " '206622' '206623' '206624' '206625' '206626' '206627' '206628' '206629'\n",
      " '206630' '206635' '206636' '206643' '206644' '206645' '206646' '206647'\n",
      " '206648' '206655' '206656' '206657' '206658' '206659' '206660' '206667'\n",
      " '206668' '206669' '206670' '206671' '206672' '206673' '206675' '206676'\n",
      " '206677' '206678' '206681' '206682' '206683' '206684' '206695' '206700'\n",
      " '206701' '206702' '206703' '206704' '206708' '206709' '206710' '206711'\n",
      " '206712' '206713' '206718' '206719' '206720' '206721' '206723' '206724'\n",
      " '206725' '206726' '206727' '206728' '206729' '206730' '206731' '206732'\n",
      " '206733' '206734' '206738' '206739' '206740' '206741' '206742' '206743'\n",
      " '206746' '206747' '206750' '206751' '206752' '206753' '206754' '206755'\n",
      " '206756' '206757' '206758' '206761' '206762' '206766' '206767' '206768'\n",
      " '206769' '206770' '214994' '214995' '215003' '215004' '215007' '215008'\n",
      " '215009' '215010' '215048' '215049' '215050' '215055' '215056' '215057'\n",
      " '215058' '215061' '215062' '215067' '215074' '215075' '215076' '215077'\n",
      " '215080' '215084' '215085' '219633' '219634' '219637' '219638' '219643'\n",
      " '219644' '219645' '219646' '219651' '219652' '219653' '219654' '219655'\n",
      " '219656' '219657' '219658' '219659' '219668' '219669' '219670' '219675'\n",
      " '219676' '219691' '219692' '219693' '222170' '222171' '224323' '224324'\n",
      " '224325' '224326' '224327' '224328' '224330' '224844' '224845']\n",
      "\n",
      "Data matrix (samples x OTUs):\n",
      "[[6.0000e+00 9.0000e+00 4.0000e+00 ... 1.7885e+04 1.7080e+03 6.5890e+03]\n",
      " [4.8200e+02 5.0900e+02 1.5900e+02 ... 2.6940e+03 4.6840e+03 9.3310e+03]\n",
      " [1.1952e+04 1.0357e+04 4.5740e+03 ... 0.0000e+00 0.0000e+00 0.0000e+00]\n",
      " ...\n",
      " [0.0000e+00 0.0000e+00 0.0000e+00 ... 0.0000e+00 0.0000e+00 2.0000e+00]\n",
      " [0.0000e+00 0.0000e+00 0.0000e+00 ... 0.0000e+00 0.0000e+00 2.0000e+00]\n",
      " [0.0000e+00 0.0000e+00 0.0000e+00 ... 0.0000e+00 0.0000e+00 2.0000e+00]]\n"
     ]
    }
   ],
   "source": [
    "\n",
    "table = biom.load_table('feature-table.biom')\n",
    "\n",
    "\n",
    "#  first few rows of data\n",
    "print(\"OTUs (rows) in the feature table:\")\n",
    "print(table.ids('observation'))  # List of OTUs\n",
    "\n",
    "# Get sample IDs (columns)\n",
    "print(\"\\nSample IDs (columns):\")\n",
    "print(table.ids('sample'))\n",
    "\n",
    "# Check the actual data matrix\n",
    "print(\"\\nData matrix (samples x OTUs):\")\n",
    "print(table.matrix_data.toarray())\n"
   ]
  },
  {
   "cell_type": "code",
   "execution_count": 20,
   "metadata": {
    "id": "tZ1fwmKLfe2h"
   },
   "outputs": [],
   "source": [
    "\n",
    "#made up data\n",
    "\n",
    "\n",
    "#gives the proportions of different microbial species in each sample.\n",
    "#sample 1 is crohn , sample 2 is control\n",
    "sample1 = np.array([0.4, 0.3, 0.2, 0.1])\n",
    "sample2 = np.array([0.35, 0.3, 0.25, 0.1])\n",
    "\n",
    "# 4 edges\n",
    "# placeholder egde represent evolutionary distances between OTUs\n",
    "edges = [0, 1, 2, 3]\n",
    "\n",
    "# Edge lengths (evolutionary distances between nodes)\n",
    "Le = [1.0, 0.5, 0.8, 1.2]\n",
    "\n",
    "# Empirical distributions for each edge in the tree\n",
    "#pe is crohn and qe is for control\n",
    "Pe = [0.4, 0.3, 0.2, 0.1]\n",
    "Qe = [0.35, 0.3, 0.25, 0.1]\n"
   ]
  },
  {
   "cell_type": "code",
   "execution_count": 21,
   "metadata": {
    "id": "V3rLA90RPrU0"
   },
   "outputs": [],
   "source": [
    "def moment_screening_estimator(Pe, Qe, Le, polynomial_degree=1):\n",
    "    \"\"\"\n",
    "\n",
    "    Parameters:\n",
    "    - Pe: Empirical distribution for sample P at a tree edge\n",
    "    - Qe: Empirical distribution for sample Q at a tree edge\n",
    "    - Le: Length of the tree edge between nodes (e)\n",
    "    - polynomial_degree: Degree of the polynomial used for bias reduction (1 means linear)\n",
    "\n",
    "    Returns:\n",
    "    - Wasserstein distance\n",
    "\"\"\"\n",
    "\n",
    "    bias_corrected_distance = Le * (np.abs(Pe - Qe) ** polynomial_degree)\n",
    "    return bias_corrected_distance\n"
   ]
  },
  {
   "cell_type": "code",
   "execution_count": 22,
   "metadata": {
    "id": "F0_tGM8KQNh-"
   },
   "outputs": [],
   "source": [
    "def transport(Pe, Qe, Le):\n",
    "    \"\"\"\n",
    "    compute the optimal transport cost between distributions using\n",
    "    the Wasserstein distance formula.\n",
    "\n",
    "    Parameters:\n",
    "    - Pe: Empirical distribution for sample P at each tree edge\n",
    "    - Qe: Empirical distribution for sample Q at each tree edge\n",
    "    - Le: Length of the tree edges\n",
    "\n",
    "    Returns:\n",
    "    - Optimized transport cost (Wasserstein distance)\n",
    "    \"\"\"\n",
    "    # cost matrix: absolute differences between distributions, weighted by edge lengths\n",
    "    cost_matrix = np.abs(np.subtract(Pe, Qe)) * Le\n",
    "    result = linprog(cost_matrix.flatten(), method='simplex')\n",
    "\n",
    "    return result.fun\n"
   ]
  },
  {
   "cell_type": "code",
   "execution_count": 23,
   "metadata": {
    "id": "r9udXc-jQZGQ"
   },
   "outputs": [],
   "source": [
    "def compute_Wasserstein_distance(Pe, Qe, Le, edges, polynomial_degree=1):\n",
    "    \"\"\"\n",
    "    total Wasserstein distance between two microbiome distributions (P and Q)\n",
    "\n",
    "    Parameters:\n",
    "    - Pe: Empirical distribution for sample P at each edge\n",
    "    - Qe: Empirical distribution for sample Q at each edge\n",
    "    - Le: Length of the tree edges\n",
    "    - edges: List of tree edges to calculate the distance over\n",
    "    - polynomial_degree: Degree of the polynomial for moment screening\n",
    "\n",
    "    Returns:\n",
    "    - Total computed Wasserstein distance\n",
    "    \"\"\"\n",
    "    total_distance = 0\n",
    "\n",
    "    for edge in edges:\n",
    "        P_edge = Pe[edge]  # Empirical distribution for sample 1 (Crohn's)\n",
    "        Q_edge = Qe[edge]  # Empirical distribution for sample 2 (Control)\n",
    "        L_edge = Le[edge]  # Length of the tree edge\n",
    "\n",
    "        # Apply moment screening for waser. distance\n",
    "        total_distance += moment_screening_estimator(P_edge, Q_edge, L_edge, polynomial_degree)\n",
    "    #trasnport for optmized distance\n",
    "    optimized_transport_cost = transport(Pe, Qe, Le)\n",
    "    #sum of the total distance\n",
    "    return total_distance + optimized_transport_cost\n",
    "\n"
   ]
  },
  {
   "cell_type": "code",
   "execution_count": 24,
   "metadata": {
    "colab": {
     "base_uri": "https://localhost:8080/"
    },
    "id": "cFWtaJ0kf1vD",
    "outputId": "e77870ab-ae57-4bdf-e825-a37627b80acb"
   },
   "outputs": [
    {
     "name": "stdout",
     "output_type": "stream",
     "text": [
      "Total Wasserstein distance using MET: 0.004500000000000004\n"
     ]
    },
    {
     "name": "stderr",
     "output_type": "stream",
     "text": [
      "<ipython-input-22-81d8d6f789f2>:16: DeprecationWarning: `method='simplex'` is deprecated and will be removed in SciPy 1.11.0. Please use one of the HiGHS solvers (e.g. `method='highs'`) in new code.\n",
      "  result = linprog(cost_matrix.flatten(), method='simplex')\n"
     ]
    }
   ],
   "source": [
    "# Compute the total Wasserstein distance between microbiome samples using MET\n",
    "Wasserstein_distance = compute_Wasserstein_distance(Pe, Qe, Le, edges, polynomial_degree=2)\n",
    "print(f\"Total Wasserstein distance using MET: {Wasserstein_distance}\")\n"
   ]
  }
 ],
 "metadata": {
  "colab": {
   "provenance": []
  },
  "kernelspec": {
   "display_name": ".venv",
   "language": "python",
   "name": "python3"
  },
  "language_info": {
   "name": "python",
   "version": "3.9.6"
  }
 },
 "nbformat": 4,
 "nbformat_minor": 0
}
